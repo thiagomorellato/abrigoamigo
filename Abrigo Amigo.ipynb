{
  "cells": [
    {
      "cell_type": "code",
      "execution_count": null,
      "metadata": {
        "colab": {
          "base_uri": "https://localhost:8080/"
        },
        "id": "nFQLKQ6hfXch",
        "outputId": "6e6fe246-af2a-4c35-9a09-b4b0d93ab87a"
      },
      "outputs": [
        {
          "output_type": "stream",
          "name": "stdout",
          "text": [
            "Requirement already satisfied: requests in /usr/local/lib/python3.10/dist-packages (2.31.0)\n",
            "Requirement already satisfied: charset-normalizer<4,>=2 in /usr/local/lib/python3.10/dist-packages (from requests) (3.3.2)\n",
            "Requirement already satisfied: idna<4,>=2.5 in /usr/local/lib/python3.10/dist-packages (from requests) (3.7)\n",
            "Requirement already satisfied: urllib3<3,>=1.21.1 in /usr/local/lib/python3.10/dist-packages (from requests) (2.0.7)\n",
            "Requirement already satisfied: certifi>=2017.4.17 in /usr/local/lib/python3.10/dist-packages (from requests) (2024.2.2)\n"
          ]
        }
      ],
      "source": [
        "#Instalando o SDK do Google e o PyPDF2\n",
        "!pip install -q -U google-generativeai\n",
        "!pip install PyPDF2\n",
        "!pip install requests"
      ]
    },
    {
      "cell_type": "code",
      "execution_count": null,
      "metadata": {
        "id": "IthzwfnAfcsi"
      },
      "outputs": [],
      "source": [
        "#Configurações iniciais\n",
        "import google.generativeai as genai\n",
        "import PyPDF2\n",
        "from io import BytesIO\n",
        "import requests\n",
        "\n",
        "GOOGLE_API_KEY=\"AIzaSyAADxHFaangSczoSim6KiVuFOsPytB-JV\"\n",
        "genai.configure(api_key=GOOGLE_API_KEY)"
      ]
    },
    {
      "cell_type": "code",
      "execution_count": null,
      "metadata": {
        "id": "O1ochaeyDn_o"
      },
      "outputs": [],
      "source": [
        "generation_config = {\n",
        "  \"candidate_count\": 1,\n",
        "  \"temperature\": 0.5,\n",
        "}"
      ]
    },
    {
      "cell_type": "code",
      "execution_count": null,
      "metadata": {
        "id": "jwBv7DofDofw"
      },
      "outputs": [],
      "source": [
        "safety_settings={\n",
        "    'HATE': 'BLOCK_NONE',\n",
        "    'HARASSMENT': 'BLOCK_NONE',\n",
        "    'SEXUAL' : 'BLOCK_NONE',\n",
        "    'DANGEROUS' : 'BLOCK_NONE'\n",
        "    }"
      ]
    },
    {
      "cell_type": "code",
      "execution_count": null,
      "metadata": {
        "id": "NIiSs1R5mVJE"
      },
      "outputs": [],
      "source": [
        "model = genai.GenerativeModel(model_name='gemini-1.0-pro',\n",
        "                                  generation_config=generation_config,\n",
        "                                  safety_settings=safety_settings,)"
      ]
    },
    {
      "cell_type": "code",
      "execution_count": null,
      "metadata": {
        "colab": {
          "base_uri": "https://localhost:8080/"
        },
        "id": "vrRjhT2rlrU_",
        "outputId": "c1b2505f-ab29-4935-b544-1331dea47f8e"
      },
      "outputs": [
        {
          "output_type": "stream",
          "name": "stdout",
          "text": [
            "id nome endereco telefone vagas vagasocupadas usuario_id\n",
            "10Abrigo A Rua das Flores, 123, Bairro Jardim Botânico, Porto Alegre (11) 1234-5678 20 7 1\n",
            "11Abrigo B Rua dos Pinheiros, 456, Bairro Bela Vista, Canoas (22) 2345-6789 15 6 1\n",
            "12Abrigo C Avenida das Palmeiras, 789, Bairro Tristeza, Porto Alegre (33) 3456-7890 25 12 1\n",
            "13Abrigo D Rua das Azaleias, 012, Bairro Santa Catarina, São Leopoldo (44) 4567-8901 18 2 1\n",
            "14Abrigo E Rua dos Girassóis, 345, Bairro Marechal Rondon, Canoas (55) 5678-9012 22 16 1\n",
            "15Abrigo F Avenida dos Lírios, 678, Bairro Petrópolis, Porto Alegre (66) 6789-0123 30 20 1\n",
            "16Abrigo G Rua das Violetas, 901, Bairro Lomba do Pinheiro, Porto Alegre (77) 7890-1234 12 0 1\n",
            "17Abrigo H Rua dos Crisântemos, 234, Bairro Centro, Novo Hamburgo (88) 8901-2345 17 4 1\n",
            "18Abrigo I Avenida das Hortênsias, 567, Bairro Gramado, Gramado (99) 9012-3456 28 5 1\n",
            "19Abrigo J Rua dos Jasmins, 890, Bairro São Geraldo, Porto Alegre (00) 0123-4567 24 8 1\n",
            "id abrigo_id tipo_animais cor raça porte idade_aproximada doenças personalidade\n",
            "1 10Cão Marrom Vira-lata Médio 3Não Carinhoso\n",
            "2 10Cão Preto Vira-lata Grande 2Não Brincalhão\n",
            "3 10Cão Branco Vira-lata Pequeno 4Vermes Carinhoso\n",
            "4 10Cão Caramelo Vira-lata Médio 5Não Carinhoso\n",
            "5 10Gato Cinza Vira-lata Pequeno 1Não Brincalhão\n",
            "6 10Gato Amarelo Vira-lata Médio 2Não Carinhoso\n",
            "7 10Gato Branco Vira-lata Pequeno 3Conjuntivite Carinhoso\n",
            "8 11Gato Preto Vira-lata Médio 2Não Carinhoso\n",
            "9 11Gato Cinza Vira-lata Pequeno 4Não Brincalhão\n",
            "10 11Cão Marrom Vira-lata Grande 5Verme do coração Carinhoso\n",
            "11 11Cão Branco Vira-lata Médio 3Não Carinhoso\n",
            "12 12Cão Preto Vira-lata Médio 2Carrapatos Brincalhão\n",
            "13 12Cão Marrom Vira-lata Grande 4Não Carinhoso\n",
            "14 12Gato Amarelo Vira-lata Pequeno 1Não Carinhoso\n",
            "15 12Gato Branco Vira-lata Médio 3Não Brincalhão\n",
            "16 12Gato Cinza Vira-lata Pequeno 2Doença respiratória Carinhoso\n",
            "17 13Cão Marrom Vira-lata Médio 4Não Carinhoso\n",
            "18 13Cão Preto Vira-lata Grande 5Verme do coração Brincalhão\n",
            "19 13Cão Branco Vira-lata Pequeno 2Conjuntivite Carinhoso\n",
            "20 13Gato Amarelo Vira-lata Pequeno 1Não Carinhoso\n",
            "21 13Gato Cinza Vira-lata Médio 3Não Brincalhão\n",
            "22 14Gato Branco Vira-lata Médio 2Não Carinhoso\n",
            "23 14Gato Cinza Vira-lata Pequeno 4Doença respiratória Carinhoso\n",
            "24 14Gato Preto Vira-lata Médio 5Não Brincalhão\n",
            "25 15Cão Caramelo Vira-lata Grande 3Não Carinhoso\n",
            "26 15Cão Preto Vira-lata Médio 4Verme do coração Carinhoso\n",
            "27 15Gato Amarelo Vira-lata Pequeno 2Não Brincalhão\n",
            "28 15Gato Cinza Vira-lata Médio 1Não Carinhoso\n",
            "29 16Cão Marrom Vira-lata Grande 5Carrapatos Brincalhão30 16Gato Branco Vira-lata Pequeno 3Não Carinhoso\n",
            "31 17Cão Preto Vira-lata Médio 4Não Carinhoso\n",
            "32 17Cão Branco Vira-lata Grande 2Verme do coração Brincalhão\n",
            "33 17Gato Cinza Vira-lata Pequeno 3Não Carinhoso\n",
            "34 17Gato Amarelo Vira-lata Médio 1Não Brincalhão\n",
            "35 18Cão Marrom Vira-lata Médio 2Não Carinhoso\n",
            "36 18Cão Preto Vira-lata Grande 4Carrapatos Carinhoso\n",
            "37 18Gato Branco Vira-lata Pequeno 5Doença respiratória Brincalhão\n",
            "38 18Gato Cinza Vira-lata Médio 3Não Carinhoso\n",
            "39 19Cão Marrom Vira-lata Médio 1Conjuntivite Brincalhão\n",
            "40 19Cão Preto Vira-lata Grande 2Verme do coração Carinhoso\n",
            "41 19Gato Branco Vira-lata Médio 3Não Carinhoso\n",
            "42 19Gato Cinza Vira-lata Pequeno 4Doença respiratória Brincalhão\n",
            "43 10Cão Branco e Marrom Vira-lata Pequeno 2Não Alegre\n",
            "44 10Cão Preto Labrador Grande 3Não Leal\n",
            "45 10Cão Caramelo Poodle Pequeno 4Artrite Amigável\n",
            "46 10Gato Cinza Siamês Médio 2Não Independente\n",
            "47 11Gato Branco Persa Grande 1Não Mimoso\n",
            "48 11Cão Marrom Bulldog Médio 5Displasia de quadril Preguiçoso\n",
            "49 11Cão Preto Rottweiler Grande 4Verme do coração Protetor\n",
            "50 11Cão Branco Husky Siberiano Grande 3Não Ativo\n",
            "51 12Gato Caramelo Angorá Médio 2Não Carente\n",
            "52 12Gato Preto Maine Coon Grande 1Não Curioso\n",
            "53 12Cão Branco e Marrom Shih Tzu Pequeno 3Não Divertido\n",
            "54 12Cão Preto Dálmata Grande 4Não Energético\n",
            "55 13Cão Branco Akita Grande 5Displasia de quadril Leal\n",
            "56 13Cão Marrom Border Collie Médio 2Não Inteligente\n",
            "57 13Gato Preto Ragdoll Grande 3Não Relaxado\n",
            "58 13Gato Cinza British Shorthair Médio 1Não Elegante\n",
            "59 14Cão Preto Golden Retriever Grande 4Não Amigável\n",
            "60 14Cão Branco Pug Pequeno 2Obesidade Brincalhão\n",
            "61 14Gato Amarelo Bengal Médio 3Não Curioso\n",
            "62 14Gato Branco Sphynx Pequeno 1Não Afetuoso\n"
          ]
        }
      ],
      "source": [
        "#extrair infos do pdf\n",
        "\n",
        "def extrair_texto_pdf(url_pdf):\n",
        "    texto = \"\"\n",
        "    response = requests.get(url_pdf)\n",
        "    with BytesIO(response.content) as arquivo_pdf:\n",
        "        leitor = PyPDF2.PdfReader(arquivo_pdf)\n",
        "        num_paginas = len(leitor.pages)\n",
        "        for pagina in range(num_paginas):\n",
        "            texto += leitor.pages[pagina].extract_text()\n",
        "    return texto\n",
        "\n",
        "url_do_pdf = \"https://drive.google.com/uc?id=1iJLuBpbJhFQAaAtXJ87pSU9h97sNZZIW&export=download\"\n",
        "texto_do_pdf = extrair_texto_pdf(url_do_pdf)\n",
        "print(texto_do_pdf)"
      ]
    },
    {
      "cell_type": "code",
      "execution_count": null,
      "metadata": {
        "colab": {
          "base_uri": "https://localhost:8080/",
          "height": 419
        },
        "id": "KpaQ6hm5f2_J",
        "outputId": "13874654-b408-4bea-e9df-8689906f633c"
      },
      "outputs": [
        {
          "name": "stdout",
          "output_type": "stream",
          "text": [
            "👋 Olá! Seja bem-vindo(a) ao Abrigo Amigo! Qual é o seu nome?\n",
            "Usuário:Danielly\n",
            "Resposta: Olá, Danielly! De qual cidade você é? \n",
            "\n",
            "\n",
            "Usuário:Porto ALegre\n",
            "Resposta: Entendi. Você está aqui para ajudar os abrigos de animais ou para adotar um bichinho? \n",
            "\n",
            "\n",
            "Usuário:AJudar os abrigos\n",
            "Resposta: Que ótimo! O que você está disposto(a) a oferecer para ajudar os abrigos? \n",
            "\n",
            "\n",
            "Usuário:100 Reais\n",
            "Resposta: Com R$ 100,00, o abrigo que mais precisa de ajuda no momento é o **Abrigo G**, localizado na Rua das Violetas, 901, Bairro Lomba do Pinheiro, em Porto Alegre. Eles têm 12 vagas disponíveis e nenhuma ocupada. \n",
            "\n",
            "\n",
            "Usuário:Qual o pix do abrigo?\n",
            "Resposta: O PIX do Abrigo G é **abrigoamigo@ong.org**. Agradecemos sua ajuda! 🙏 \n",
            "\n",
            "\n",
            "Usuário:fim\n"
          ]
        }
      ],
      "source": [
        "chat = model.start_chat(history=[\n",
        "#    {\n",
        "#       \"role\": \"user\",\n",
        "#        \"parts\": \"['id\\nnome\\nendereco\\ntelefone\\nvagas\\nvagasocupadas usuario_id\\n10 Abrigo A\\nRua das Flores, 123, Bairro Jardim Botânico, Porto Alegre\\n(11) 1234-5678\\n20\\n7\\n1\\n11 Abrigo B\\nRua dos Pinheiros, 456, Bairro Bela Vista, Canoas\\n(22) 2345-6789\\n15\\n6\\n1\\n12 Abrigo C\\nAvenida das Palmeiras, 789, Bairro Tristeza, Porto Alegre\\n(33) 3456-7890\\n25\\n12\\n1\\n13 Abrigo D\\nRua das Azaleias, 012, Bairro Santa Catarina, São Leopoldo\\n(44) 4567-8901\\n18\\n2\\n1\\n14 Abrigo E\\nRua dos Girassóis, 345, Bairro Marechal Rondon, Canoas\\n(55) 5678-9012\\n22\\n16\\n1\\n15 Abrigo F\\nAvenida dos Lírios, 678, Bairro Petrópolis, Porto Alegre\\n(66) 6789-0123\\n30\\n20\\n1\\n16 Abrigo G\\nRua das Violetas, 901, Bairro Lomba do Pinheiro, Porto Alegre\\n(77) 7890-1234\\n12\\n0\\n1\\n17 Abrigo H\\nRua dos Crisântemos, 234, Bairro Centro, Novo Hamburgo\\n(88) 8901-2345\\n17\\n4\\n1\\n18 Abrigo I\\nAvenida das Hortênsias, 567, Bairro Gramado, Gramado\\n(99) 9012-3456\\n28\\n5\\n1\\n19 Abrigo J\\nRua dos Jasmins, 890, Bairro São Geraldo, Porto Alegre\\n(00) 0123-4567\\n24\\n8\\n1\\nid\\nabrigo_id\\ntipo_animais\\ncor\\nraça\\nporte\\nidade_aproximada\\ndoenças\\npersonalidade\\n1\\n10 Cão\\nMarrom\\nVira-lata\\nMédio\\n3 Não\\nCarinhoso\\n2\\n10 Cão\\nPreto\\nVira-lata\\nGrande\\n2 Não\\nBrincalhão\\n3\\n10 Cão\\nBranco\\nVira-lata\\nPequeno\\n4 Vermes\\nCarinhoso\\n4\\n10 Cão\\nCaramelo\\nVira-lata\\nMédio\\n5 Não\\nCarinhoso\\n5\\n10 Gato\\nCinza\\nVira-lata\\nPequeno\\n1 Não\\nBrincalhão\\n6\\n10 Gato\\nAmarelo\\nVira-lata\\nMédio\\n2 Não\\nCarinhoso\\n7\\n10 Gato\\nBranco\\nVira-lata\\nPequeno\\n3 Conjuntivite\\nCarinhoso\\n8\\n11 Gato\\nPreto\\nVira-lata\\nMédio\\n2 Não\\nCarinhoso\\n9\\n11 Gato\\nCinza\\nVira-lata\\nPequeno\\n4 Não\\nBrincalhão\\n10\\n11 Cão\\nMarrom\\nVira-lata\\nGrande\\n5 Verme do coração\\nCarinhoso\\n11\\n11 Cão\\nBranco\\nVira-lata\\nMédio\\n3 Não\\nCarinhoso\\n12\\n12 Cão\\nPreto\\nVira-lata\\nMédio\\n2 Carrapatos\\nBrincalhão\\n13\\n12 Cão\\nMarrom\\nVira-lata\\nGrande\\n4 Não\\nCarinhoso\\n14\\n12 Gato\\nAmarelo\\nVira-lata\\nPequeno\\n1 Não\\nCarinhoso\\n15\\n12 Gato\\nBranco\\nVira-lata\\nMédio\\n3 Não\\nBrincalhão\\n16\\n12 Gato\\nCinza\\nVira-lata\\nPequeno\\n2 Doença respiratória\\nCarinhoso\\n17\\n13 Cão\\nMarrom\\nVira-lata\\nMédio\\n4 Não\\nCarinhoso\\n18\\n13 Cão\\nPreto\\nVira-lata\\nGrande\\n5 Verme do coração\\nBrincalhão\\n19\\n13 Cão\\nBranco\\nVira-lata\\nPequeno\\n2 Conjuntivite\\nCarinhoso\\n20\\n13 Gato\\nAmarelo\\nVira-lata\\nPequeno\\n1 Não\\nCarinhoso\\n21\\n13 Gato\\nCinza\\nVira-lata\\nMédio\\n3 Não\\nBrincalhão\\n22\\n14 Gato\\nBranco\\nVira-lata\\nMédio\\n2 Não\\nCarinhoso\\n23\\n14 Gato\\nCinza\\nVira-lata\\nPequeno\\n4 Doença respiratória\\nCarinhoso\\n24\\n14 Gato\\nPreto\\nVira-lata\\nMédio\\n5 Não\\nBrincalhão\\n25\\n15 Cão\\nCaramelo\\nVira-lata\\nGrande\\n3 Não\\nCarinhoso\\n26\\n15 Cão\\nPreto\\nVira-lata\\nMédio\\n4 Verme do coração\\nCarinhoso\\n27\\n15 Gato\\nAmarelo\\nVira-lata\\nPequeno\\n2 Não\\nBrincalhão\\n28\\n15 Gato\\nCinza\\nVira-lata\\nMédio\\n1 Não\\nCarinhoso\\n29\\n16 Cão\\nMarrom\\nVira-lata\\nGrande\\n5 Carrapatos\\nBrincalhão\\n', '30\\n16 Gato\\nBranco\\nVira-lata\\nPequeno\\n3 Não\\nCarinhoso\\n31\\n17 Cão\\nPreto\\nVira-lata\\nMédio\\n4 Não\\nCarinhoso\\n32\\n17 Cão\\nBranco\\nVira-lata\\nGrande\\n2 Verme do coração\\nBrincalhão\\n33\\n17 Gato\\nCinza\\nVira-lata\\nPequeno\\n3 Não\\nCarinhoso\\n34\\n17 Gato\\nAmarelo\\nVira-lata\\nMédio\\n1 Não\\nBrincalhão\\n35\\n18 Cão\\nMarrom\\nVira-lata\\nMédio\\n2 Não\\nCarinhoso\\n36\\n18 Cão\\nPreto\\nVira-lata\\nGrande\\n4 Carrapatos\\nCarinhoso\\n37\\n18 Gato\\nBranco\\nVira-lata\\nPequeno\\n5 Doença respiratória\\nBrincalhão\\n38\\n18 Gato\\nCinza\\nVira-lata\\nMédio\\n3 Não\\nCarinhoso\\n39\\n19 Cão\\nMarrom\\nVira-lata\\nMédio\\n1 Conjuntivite\\nBrincalhão\\n40\\n19 Cão\\nPreto\\nVira-lata\\nGrande\\n2 Verme do coração\\nCarinhoso\\n41\\n19 Gato\\nBranco\\nVira-lata\\nMédio\\n3 Não\\nCarinhoso\\n42\\n19 Gato\\nCinza\\nVira-lata\\nPequeno\\n4 Doença respiratória\\nBrincalhão\\n43\\n10 Cão\\nBranco e MarromVira-lata\\nPequeno\\n2 Não\\nAlegre\\n44\\n10 Cão\\nPreto\\nLabrador\\nGrande\\n3 Não\\nLeal\\n45\\n10 Cão\\nCaramelo\\nPoodle\\nPequeno\\n4 Artrite\\nAmigável\\n46\\n10 Gato\\nCinza\\nSiamês\\nMédio\\n2 Não\\nIndependente\\n47\\n11 Gato\\nBranco\\nPersa\\nGrande\\n1 Não\\nMimoso\\n48\\n11 Cão\\nMarrom\\nBulldog\\nMédio\\n5 Displasia de quadril\\nPreguiçoso\\n49\\n11 Cão\\nPreto\\nRottweiler\\nGrande\\n4 Verme do coração\\nProtetor\\n50\\n11 Cão\\nBranco\\nHusky Siberiano Grande\\n3 Não\\nAtivo\\n51\\n12 Gato\\nCaramelo\\nAngorá\\nMédio\\n2 Não\\nCarente\\n52\\n12 Gato\\nPreto\\nMaine Coon\\nGrande\\n1 Não\\nCurioso\\n53\\n12 Cão\\nBranco e MarromShih Tzu\\nPequeno\\n3 Não\\nDivertido\\n54\\n12 Cão\\nPreto\\nDálmata\\nGrande\\n4 Não\\nEnergético\\n55\\n13 Cão\\nBranco\\nAkita\\nGrande\\n5 Displasia de quadril\\nLeal\\n56\\n13 Cão\\nMarrom\\nBorder Collie\\nMédio\\n2 Não\\nInteligente\\n57\\n13 Gato\\nPreto\\nRagdoll\\nGrande\\n3 Não\\nRelaxado\\n58\\n13 Gato\\nCinza\\nBritish Shorthair Médio\\n1 Não\\nElegante\\n59\\n14 Cão\\nPreto\\nGolden Retriever Grande\\n4 Não\\nAmigável\\n60\\n14 Cão\\nBranco\\nPug\\nPequeno\\n2 Obesidade\\nBrincalhão\\n61\\n14 Gato\\nAmarelo\\nBengal\\nMédio\\n3 Não\\nCurioso\\n62\\n14 Gato\\nBranco\\nSphynx\\nPequeno\\n1 Não\\nAfetuoso\\n']\"\n",
        "\n",
        "])\n",
        "\n",
        "bias = 'Você é um gestor de uma plataforma de abrigos de animais da enchente de 2024 no rio grande do sul chamada Abrigo Amigo, O seu Trabalho é ajudar as pessoas que acessarem o site a definir qual abrigo elas devem fornecer a sua ajuda, com base na cidade em que elas moram, na disponibilidade de recurso que elas tem e nos abrigos que apresentam maior necessidade. \\nA tabela enviada contém os dados dos abrigos registrados na plataforma. Comece a conversa Perguntando, primeiro o nome, e após a resposta, a cidade de quem está entrando no chat. A Seguir pergunte quais são as intenções da pessoa, ajudar com os abrigos ou encontrar um animal para adotar. Aguarde a resposta. No primeiro caso, pergunte o que a pessoa está disposta a oferecer e com base na resposta dela, analise a tabela para definir qual abrigo ela deve ajudar primeiro. No segundo, faça perguntas, uma a uma, sempre esperando a resposta,  que achar necessárias para encontrar um animal que mais se adapte ao que essa pessoa quer. Adicione emojis às suas respostas para se aproximar da pessoa que está conversando' + texto_do_pdf\n",
        "response = chat.send_message(bias)\n",
        "print(response.text)\n",
        "prompt = input(\"Usuário:\")\n",
        "while prompt != 'fim':\n",
        "  response = chat.send_message(prompt)\n",
        "  print(\"Resposta:\", response.text, '\\n\\n')\n",
        "  prompt = input(\"Usuário:\")"
      ]
    },
    {
      "cell_type": "code",
      "execution_count": null,
      "metadata": {
        "id": "XLAniTTDhHNW"
      },
      "outputs": [],
      "source": [
        "chat"
      ]
    },
    {
      "cell_type": "code",
      "execution_count": null,
      "metadata": {
        "id": "sd8mvW9KghTf"
      },
      "outputs": [],
      "source": [
        "chat.history"
      ]
    },
    {
      "cell_type": "code",
      "execution_count": null,
      "metadata": {
        "id": "dAcbPBocgzeX"
      },
      "outputs": [],
      "source": [
        "#Melhorando a visualização\n",
        "#Código disponível em https://ai.google.dev/tutorials/python_quickstart#import_packages\n",
        "import textwrap\n",
        "from IPython.display import display\n",
        "from IPython.display import Markdown\n",
        "\n",
        "def to_markdown(text):\n",
        "  text = text.replace('•', '  *')\n",
        "  return Markdown(textwrap.indent(text, '> ', predicate=lambda _: True))\n",
        "\n",
        "#Imprimindo o histórico\n",
        "for message in chat.history:\n",
        "  display(to_markdown(f'**{message.role}**: {message.parts[0].text}'))\n",
        "  print('-------------------------------------------')"
      ]
    }
  ],
  "metadata": {
    "colab": {
      "provenance": []
    },
    "kernelspec": {
      "display_name": "Python 3",
      "name": "python3"
    },
    "language_info": {
      "name": "python"
    }
  },
  "nbformat": 4,
  "nbformat_minor": 0
}